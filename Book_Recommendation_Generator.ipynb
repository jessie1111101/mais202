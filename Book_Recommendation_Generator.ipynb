{
  "nbformat": 4,
  "nbformat_minor": 0,
  "metadata": {
    "colab": {
      "name": "Book Recommendation Generator",
      "provenance": [],
      "authorship_tag": "ABX9TyNLxXxh9hOnTYFN2IKP9Uud",
      "include_colab_link": true
    },
    "kernelspec": {
      "name": "python3",
      "display_name": "Python 3"
    }
  },
  "cells": [
    {
      "cell_type": "markdown",
      "metadata": {
        "id": "view-in-github",
        "colab_type": "text"
      },
      "source": [
        "<a href=\"https://colab.research.google.com/github/jessie1111101/mais202/blob/master/Book_Recommendation_Generator.ipynb\" target=\"_parent\"><img src=\"https://colab.research.google.com/assets/colab-badge.svg\" alt=\"Open In Colab\"/></a>"
      ]
    },
    {
      "cell_type": "markdown",
      "metadata": {
        "id": "A3JBXKB2KwIl",
        "colab_type": "text"
      },
      "source": [
        "1. Problem Statement\n",
        "I will make a book recommendation generator by using bag of words model and kaggle good books 10k data.\n",
        "\n",
        "2. the dataset I will work with is kaggle goodbooks-10k. It contains information on 10,000 books. I preprocess the data by importing the csv file with pandas and accessing columns of information that I need. For example, for each book I accessed title, author, book id, and book tags to generate recommendations.\n",
        "\n",
        "3. Machine learning model\n",
        "I will use bag of words model. Specifically, I use TfidVectorizer from sklearn.feature_extraction.text and linear_kernel from sklearn.metrics.pairwise to vectorize my data and generate cosine similarity (to calculate numeric similarity) respectively. "
      ]
    },
    {
      "cell_type": "code",
      "metadata": {
        "id": "BhoDDR_KTMMh",
        "colab_type": "code",
        "colab": {
          "base_uri": "https://localhost:8080/",
          "height": 54
        },
        "outputId": "35586833-0292-4230-d133-e7ec054149b9"
      },
      "source": [
        "import numpy as np\n",
        "import pandas as pd\n",
        "import sklearn.feature_extraction.text\n",
        "import sklearn.metrics.pairwise\n",
        "\n",
        "TfidVectorizer = sklearn.feature_extraction.text.TfidfVectorizer\n",
        "linear_kernel = sklearn.metrics.pairwise.linear_kernel\n",
        "\n",
        "book_csv_url = 'https://raw.githubusercontent.com/zygmuntz/goodbooks-10k/master/books.csv'\n",
        "books = pd.read_csv(book_csv_url)\n",
        "\n",
        "ratings_url = 'https://raw.githubusercontent.com/zygmuntz/goodbooks-10k/master/ratings.csv'\n",
        "ratings = pd.read_csv(ratings_url)\n",
        "\n",
        "book_tags_url = 'https://github.com/zygmuntz/goodbooks-10k/blob/master/book_tags.csv?raw=true'\n",
        "book_tags = pd.read_csv(book_tags_url)\n",
        "\n",
        "tags_url = 'https://raw.githubusercontent.com/zygmuntz/goodbooks-10k/master/tags.csv'\n",
        "tags = pd.read_csv(tags_url)\n",
        "\n",
        "tags_join_DF = pd.merge(book_tags, tags, left_on='tag_id', right_on='tag_id', how='inner')\n",
        "\n",
        "to_read_url='https://raw.githubusercontent.com/zygmuntz/goodbooks-10k/master/to_read.csv'\n",
        "to_read = pd.read_csv(to_read_url)\n",
        "\n",
        "'''\n",
        "books.head()\n",
        "ratings.head()\n",
        "book_tags.head()\n",
        "tags.tail()\n",
        "tags_join_DF.head()\n",
        "to_read.head()\n",
        "'''\n"
      ],
      "execution_count": 1,
      "outputs": [
        {
          "output_type": "execute_result",
          "data": {
            "text/plain": [
              "'\\nbooks.head()\\nratings.head()\\nbook_tags.head()\\ntags.tail()\\ntags_join_DF.head()\\nto_read.head()\\n'"
            ]
          },
          "metadata": {
            "tags": []
          },
          "execution_count": 1
        }
      ]
    },
    {
      "cell_type": "markdown",
      "metadata": {
        "id": "zo-mz5TUIih9",
        "colab_type": "text"
      },
      "source": [
        "TfidVectorizer transforms text to feature vectors that is used as input to estimate\n",
        "\n",
        "cosine simlarity calculates numeric value denoting similarity between two books"
      ]
    },
    {
      "cell_type": "code",
      "metadata": {
        "id": "3VnsyJT98UkM",
        "colab_type": "code",
        "outputId": "1b1159eb-e261-42f6-c6c3-a3639164a3e9",
        "colab": {
          "base_uri": "https://localhost:8080/",
          "height": 374
        }
      },
      "source": [
        "tf = TfidVectorizer(analyzer = 'word', ngram_range=(1,2), min_df=0, stop_words = 'english')\n",
        "tfidf_matrix = tf.fit_transform(books['authors'])\n",
        "cosine_sim=linear_kernel(tfidf_matrix, tfidf_matrix)\n",
        "\n",
        "cosine_sim\n",
        "\n",
        "#build 1d dimensional array w book titles\n",
        "titles = books['title']\n",
        "indices = pd.Series(books.index, index=books['title'])\n",
        "\n",
        "#function that gets book recs based on cosine similarity score of book authors\n",
        "def authors_recommendations(title):\n",
        "  idx = indices[title]\n",
        "  sim_scores = list(enumerate(cosine_sim[idx]))\n",
        "  sim_scores = sorted(sim_scores, key=lambda x: x[1], reverse=True)\n",
        "  sim_scores = sim_scores[1:21]\n",
        "  book_indices = [i[0] for i in sim_scores]\n",
        "  return titles.iloc[book_indices]\n",
        "\n",
        "authors_recommendations('The Hobbit').head(20)"
      ],
      "execution_count": 2,
      "outputs": [
        {
          "output_type": "execute_result",
          "data": {
            "text/plain": [
              "18      The Fellowship of the Ring (The Lord of the Ri...\n",
              "154            The Two Towers (The Lord of the Rings, #2)\n",
              "160     The Return of the King (The Lord of the Rings,...\n",
              "188     The Lord of the Rings (The Lord of the Rings, ...\n",
              "963     J.R.R. Tolkien 4-Book Boxed Set: The Hobbit an...\n",
              "4975         Unfinished Tales of Númenor and Middle-Earth\n",
              "2308                                The Children of Húrin\n",
              "610              The Silmarillion (Middle-Earth Universe)\n",
              "8271                   The Complete Guide to Middle-Earth\n",
              "1128     The History of the Hobbit, Part One: Mr. Baggins\n",
              "465                             The Hobbit: Graphic Novel\n",
              "0                 The Hunger Games (The Hunger Games, #1)\n",
              "1       Harry Potter and the Sorcerer's Stone (Harry P...\n",
              "2                                 Twilight (Twilight, #1)\n",
              "3                                   To Kill a Mockingbird\n",
              "4                                        The Great Gatsby\n",
              "5                                  The Fault in Our Stars\n",
              "7                                  The Catcher in the Rye\n",
              "8                   Angels & Demons  (Robert Langdon, #1)\n",
              "9                                     Pride and Prejudice\n",
              "Name: title, dtype: object"
            ]
          },
          "metadata": {
            "tags": []
          },
          "execution_count": 2
        }
      ]
    },
    {
      "cell_type": "markdown",
      "metadata": {
        "id": "Ef6RcOLRM7oe",
        "colab_type": "text"
      },
      "source": [
        "recommend books using tags provided to books"
      ]
    },
    {
      "cell_type": "code",
      "metadata": {
        "id": "tgpAVBW6M-yL",
        "colab_type": "code",
        "colab": {
          "base_uri": "https://localhost:8080/",
          "height": 374
        },
        "outputId": "48d2b1a2-3f47-46d5-dd5a-a6660f0d0273"
      },
      "source": [
        "books_with_tags = pd.merge(books, tags_join_DF, left_on='book_id', right_on='goodreads_book_id', how='inner')\n",
        "# books_with_tags[(books_with_tags.goodreads_book_id==18710190)]['tag_name']\n",
        "\n",
        "tf1 = TfidVectorizer(analyzer='word',ngram_range=(1, 2),min_df=0, stop_words='english')\n",
        "tfidf_matrix1 = tf1.fit_transform(books_with_tags['tag_name'].head(10000))\n",
        "cosine_sim1 = linear_kernel(tfidf_matrix1, tfidf_matrix1)\n",
        "\n",
        "cosine_sim1\n",
        "\n",
        "#build 1d array w book titles\n",
        "titles1 = books['title']\n",
        "indices1 = pd.Series(books.index, index=books['title'])\n",
        "\n",
        "# Function that get book recommendations based on the cosine similarity score of books tags\n",
        "def tags_recommendations(title):\n",
        "    idx = indices1[title]\n",
        "    sim_scores = list(enumerate(cosine_sim1[idx]))\n",
        "    sim_scores = sorted(sim_scores, key=lambda x: x[1], reverse=True)\n",
        "    sim_scores = sim_scores[1:21]\n",
        "    book_indices = [i[0] for i in sim_scores]\n",
        "    return titles.iloc[book_indices]\n",
        "\n",
        "tags_recommendations('The Hobbit').head(20)"
      ],
      "execution_count": 3,
      "outputs": [
        {
          "output_type": "execute_result",
          "data": {
            "text/plain": [
              "106                                    A Walk to Remember\n",
              "206                One for the Money (Stephanie Plum, #1)\n",
              "306     The Wise Man's Fear (The Kingkiller Chronicle,...\n",
              "404                                Breakfast of Champions\n",
              "506     The Hunger Games Trilogy Boxset (The Hunger Ga...\n",
              "606     City of Heavenly Fire (The Mortal Instruments,...\n",
              "2805                              The Rules of Attraction\n",
              "54                                        Brave New World\n",
              "136                             Outlander (Outlander, #1)\n",
              "255     Three Cups of Tea: One Man's Mission to Promot...\n",
              "354                       Graceling (Graceling Realm, #1)\n",
              "449                   Storm Front (The Dresden Files, #1)\n",
              "542                  Last Sacrifice (Vampire Academy, #6)\n",
              "647               Inheritance (The Inheritance Cycle, #4)\n",
              "571                        Oryx and Crake (MaddAddam, #1)\n",
              "680      Little House in the Big Woods (Little House, #1)\n",
              "99                                   The Poisonwood Bible\n",
              "168                                         The Last Song\n",
              "490                          Untamed (House of Night, #4)\n",
              "668                              The House of the Spirits\n",
              "Name: title, dtype: object"
            ]
          },
          "metadata": {
            "tags": []
          },
          "execution_count": 3
        }
      ]
    },
    {
      "cell_type": "markdown",
      "metadata": {
        "id": "tQOMz5cJPTK_",
        "colab_type": "text"
      },
      "source": [
        "Recommendation of books using the authors and tags attributes for better results. Creating corpus of features and calculating the TF-IDF on the corpus of attributes for gettings better recommendations."
      ]
    },
    {
      "cell_type": "code",
      "metadata": {
        "id": "kqss48sKPUTz",
        "colab_type": "code",
        "colab": {
          "base_uri": "https://localhost:8080/",
          "height": 374
        },
        "outputId": "1398f759-3c75-48e7-d663-09980fbbd9b3"
      },
      "source": [
        "temp_df = books_with_tags.groupby('book_id')['tag_name'].apply(' '.join).reset_index()\n",
        "temp_df.head()\n",
        "\n",
        "books = pd.merge(books, temp_df, left_on='book_id', right_on='book_id', how='inner')\n",
        "books.head()\n",
        "\n",
        "books['corpus'] = (pd.Series(books[['authors', 'tag_name']].fillna('').values.tolist()).str.join(' '))\n",
        "tf_corpus = TfidVectorizer(analyzer='word',ngram_range=(1, 2),min_df=0, stop_words='english')\n",
        "tfidf_matrix_corpus = tf_corpus.fit_transform(books['corpus'])\n",
        "cosine_sim_corpus = linear_kernel(tfidf_matrix_corpus, tfidf_matrix_corpus)\n",
        "\n",
        "# Build a 1-dimensional array with book titles\n",
        "titles = books['title']\n",
        "indices = pd.Series(books.index, index=books['title'])\n",
        "\n",
        "# Function that get book recommendations based on the cosine similarity score of books tags\n",
        "def corpus_recommendations(title):\n",
        "    idx = indices1[title]\n",
        "    sim_scores = list(enumerate(cosine_sim_corpus[idx]))\n",
        "    sim_scores = sorted(sim_scores, key=lambda x: x[1], reverse=True)\n",
        "    sim_scores = sim_scores[1:21]\n",
        "    book_indices = [i[0] for i in sim_scores]\n",
        "    return titles.iloc[book_indices]\n",
        "\n",
        "#corpus_recommendations(\"The Hobbit\")\n",
        "#corpus_recommendations(\"Twilight (Twilight, #1)\")\n",
        "#corpus_recommendations(\"Romeo and Juliet\")\n",
        "#corpus_recommendations(\"The Perks of Being a Wallflower\")\n",
        "#corpus_recommendations(\"The Glass Castle\")\n",
        "corpus_recommendations(\"Gone with the Wind\")\n",
        "\n"
      ],
      "execution_count": 4,
      "outputs": [
        {
          "output_type": "execute_result",
          "data": {
            "text/plain": [
              "155             Faithful Place (Dublin Murder Squad, #3)\n",
              "108                               The Accidental Tourist\n",
              "150    Dealing with Dragons (Enchanted Forest Chronic...\n",
              "802                             The Last Days of Dogtown\n",
              "173                  Sea Swept (Chesapeake Bay Saga, #1)\n",
              "60                        Where She Went (If I Stay, #2)\n",
              "221                          Sarum: The Novel of England\n",
              "195                  A Suitable Boy (A Suitable Boy, #1)\n",
              "144                                        Perfect Match\n",
              "206                              Saga, Vol. 3 (Saga, #3)\n",
              "142            A Bear Called Paddington (Paddington, #1)\n",
              "62     The Restaurant at the End of the Universe (Hit...\n",
              "102    90 Minutes in Heaven: A True Story of Death an...\n",
              "105                                   The Birth of Venus\n",
              "74                       Around the World in Eighty Days\n",
              "576    The Declaration of Independence and The Consti...\n",
              "114    The Road Less Traveled: A New Psychology of Lo...\n",
              "573                                 Uganda Be Kidding Me\n",
              "788    Mates, Dates, and Inflatable Bras (Mates, Date...\n",
              "488                              The Pursuit of Holiness\n",
              "Name: title, dtype: object"
            ]
          },
          "metadata": {
            "tags": []
          },
          "execution_count": 4
        }
      ]
    },
    {
      "cell_type": "markdown",
      "metadata": {
        "id": "M9jkVhBVRrAz",
        "colab_type": "text"
      },
      "source": [
        "4. Preliminary results\n",
        "The model works by returning 20 books as recommendation for each book input. \n",
        "\n",
        "5. Next steps\n",
        "The pros are that I can recommend books given a book title, but I am not sure how to test the accuracy of my predictions. I can also try to incorporate sentiment analysis, and create a function to recommend authors."
      ]
    }
  ]
}